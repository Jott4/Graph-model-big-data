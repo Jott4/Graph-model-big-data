{
 "cells": [
  {
   "cell_type": "markdown",
   "metadata": {},
   "source": [
    "Reference: https://www.w3schools.com/python/python_ml_train_test.asp"
   ]
  },
  {
   "cell_type": "code",
   "execution_count": 1,
   "metadata": {},
   "outputs": [],
   "source": [
    "import numpy\n",
    "import matplotlib.pyplot as plt"
   ]
  },
  {
   "cell_type": "code",
   "execution_count": 2,
   "metadata": {},
   "outputs": [],
   "source": [
    "numpy.random.seed(2)"
   ]
  },
  {
   "cell_type": "code",
   "execution_count": 3,
   "metadata": {},
   "outputs": [],
   "source": [
    "x = numpy.random.normal(3, 1, 100)\n",
    "y = numpy.random.normal(150, 40, 100) / x"
   ]
  },
  {
   "cell_type": "code",
   "execution_count": 4,
   "metadata": {},
   "outputs": [
    {
     "data": {
      "image/png": "[encoded data removed]",
      "text/plain": [
       "<Figure size 432x288 with 1 Axes>"
      ]
     },
     "metadata": {
      "needs_background": "light"
     },
     "output_type": "display_data"
    }
   ],
   "source": [
    "plt.scatter(x, y)\n",
    "plt.show()"
   ]
  },
  {
   "cell_type": "markdown",
   "metadata": {},
   "source": [
    "The x axis represents the number of minutes before making a purchase.\n",
    "\n",
    "The y axis represents the amount of money spent on the purchase."
   ]
  },
  {
   "cell_type": "markdown",
   "metadata": {},
   "source": [
    "<h1>Split Into Train/Test</h1>\n",
    "\n",
    "<h2>The training set should be a random selection of 80% of the original data.\n",
    "\n",
    "The testing set should be the remaining 20%."
   ]
  },
  {
   "cell_type": "code",
   "execution_count": 12,
   "metadata": {},
   "outputs": [],
   "source": [
    "train_x = x[:80]\n",
    "train_y = y[:80]\n",
    "\n",
    "test_x = x[80:]\n",
    "test_y = y[80:] "
   ]
  },
  {
   "cell_type": "code",
   "execution_count": 18,
   "metadata": {},
   "outputs": [
    {
     "data": {
      "text/plain": [
       "array([2.58324215, 2.94373317, 0.8638039 , 4.64027081, 1.20656441,\n",
       "       2.15825263, 3.50288142, 1.75471191, 1.94204778, 2.09099239,\n",
       "       3.55145404, 5.29220801, 3.04153939, 1.88207455, 3.53905832,\n",
       "       2.4038403 , 2.9808695 , 4.17500122, 2.25212905, 3.00902525,\n",
       "       2.12189211, 2.84356583, 3.25657045, 2.01122095, 2.66117803,\n",
       "       2.76381597, 2.36234499, 1.81238771, 1.57878277, 2.8465048 ,\n",
       "       2.73094304, 5.23136679, 0.56523242, 3.1127265 , 3.37044454,\n",
       "       4.35963386, 3.50185721, 2.1557863 , 3.00000976, 3.54235257,\n",
       "       2.6864918 , 3.77101174, 1.13190935, 4.73118467, 4.46767801,\n",
       "       2.66432266, 3.61134078, 3.04797059, 2.17086471, 3.08771022,\n",
       "       4.00036589, 2.61890748, 2.62433058, 2.92552924, 3.43349633,\n",
       "       4.27837923, 2.36532069, 3.50839624, 3.21611601, 1.14138761,\n",
       "       2.58068352, 2.8676711 , 2.96042976, 3.32600343, 0.95967695,\n",
       "       3.04625552, 2.32232442, 1.56056097, 3.52429643, 3.73527958,\n",
       "       2.34674973, 3.84245628, 2.61848352, 3.06648901, 1.90126105,\n",
       "       4.58448706, 0.34055054, 2.90854738, 3.69511961, 0.96653345])"
      ]
     },
     "execution_count": 18,
     "metadata": {},
     "output_type": "execute_result"
    }
   ],
   "source": [
    "train_x"
   ]
  },
  {
   "cell_type": "code",
   "execution_count": 20,
   "metadata": {},
   "outputs": [
    {
     "data": {
      "text/plain": [
       "array([ 76.05204933,  56.20180641, 121.17874037,  36.05903817,\n",
       "       114.23885932, 117.41526024,  63.77986643,  95.52998052,\n",
       "        62.4237197 ,  60.57574247,  38.57519009,  24.10914678,\n",
       "        37.45148182,  67.13926856,  39.26265343,  53.79918302,\n",
       "        40.94657678,  27.02857247, 111.90190427,  30.26663537,\n",
       "        51.4368334 ,  58.83311239,  42.08623741,  83.01076429,\n",
       "        68.37843898,  72.54627253,  76.22874513,  60.83111238,\n",
       "       123.11113005,  27.89501382,  53.25015791,  24.86406278,\n",
       "       190.30762228,  55.79245737,  42.32964984,  43.76381026,\n",
       "        25.90093643,  85.28325651,  56.63901768,  43.77321677,\n",
       "        34.70979433,  37.10649687,  77.86225629,  14.09666443,\n",
       "        62.93869329,  70.87521926,  61.39097018,  43.58292288,\n",
       "        81.92492065,  57.61442568,  43.5111781 ,  57.3316853 ,\n",
       "        53.67848811,  22.97550427,  50.79538368,  39.01941998,\n",
       "        82.32095959,  39.62788318,  68.30365792, 115.73628743,\n",
       "        38.66530343,  65.39332448,  44.34023444,  30.00934597,\n",
       "       161.50533328,  59.1743156 ,  68.74904453, 108.8692008 ,\n",
       "        89.19445659,  48.95077634,  90.02681869,  18.36485932,\n",
       "        62.86162946,  59.01318439,  71.22685026,  25.07604874,\n",
       "       487.03726791,  47.24533754,  34.16662793, 202.76589695])"
      ]
     },
     "execution_count": 20,
     "metadata": {},
     "output_type": "execute_result"
    }
   ],
   "source": [
    "train_y"
   ]
  },
  {
   "cell_type": "code",
   "execution_count": 21,
   "metadata": {},
   "outputs": [
    {
     "data": {
      "text/plain": [
       "array([ 72.37873053,  55.46264153,  34.46826737,  40.15213735,\n",
       "        70.55883508, 108.46604975,  21.035144  ,  32.35727584,\n",
       "        64.76189111,  52.19177448,  55.71813453,  50.5667094 ,\n",
       "        32.65308038,  27.61777936,  80.14230427,  54.98360439,\n",
       "        46.50723143,  61.85229524,  45.84155234, 208.47130994])"
      ]
     },
     "execution_count": 21,
     "metadata": {},
     "output_type": "execute_result"
    }
   ],
   "source": [
    "test_y"
   ]
  },
  {
   "cell_type": "code",
   "execution_count": 22,
   "metadata": {},
   "outputs": [
    {
     "data": {
      "text/plain": [
       "array([2.81053074, 2.92278133, 3.82470301, 4.24821292, 2.59610773,\n",
       "       1.61548133, 4.36723542, 4.21788563, 2.53799465, 3.35088849,\n",
       "       3.38186623, 3.56627544, 3.20420798, 4.40669624, 1.2620405 ,\n",
       "       4.04082395, 3.38047197, 2.78286473, 4.1735315 , 0.65639681])"
      ]
     },
     "execution_count": 22,
     "metadata": {},
     "output_type": "execute_result"
    }
   ],
   "source": [
    "test_x"
   ]
  },
  {
   "cell_type": "code",
   "execution_count": 25,
   "metadata": {},
   "outputs": [
    {
     "data": {
      "image/png": "[encoded data removed]",
      "text/plain": [
       "<Figure size 432x288 with 1 Axes>"
      ]
     },
     "metadata": {
      "needs_background": "light"
     },
     "output_type": "display_data"
    }
   ],
   "source": [
    "plt.scatter(train_x, train_y)\n",
    "plt.show() "
   ]
  },
  {
   "cell_type": "code",
   "execution_count": 26,
   "metadata": {},
   "outputs": [
    {
     "data": {
      "image/png": "[encoded data removed]",
      "text/plain": [
       "<Figure size 432x288 with 1 Axes>"
      ]
     },
     "metadata": {
      "needs_background": "light"
     },
     "output_type": "display_data"
    }
   ],
   "source": [
    "plt.scatter(test_x, test_y)\n",
    "plt.show()"
   ]
  },
  {
   "cell_type": "code",
   "execution_count": 28,
   "metadata": {},
   "outputs": [
    {
     "name": "stdout",
     "output_type": "stream",
     "text": [
      "\f",
      "\n"
     ]
    }
   ],
   "source": []
  }
 ],
 "metadata": {
  "kernelspec": {
   "display_name": "Python 3",
   "language": "python",
   "name": "python3"
  },
  "language_info": {
   "codemirror_mode": {
    "name": "ipython",
    "version": 3
   },
   "file_extension": ".py",
   "mimetype": "text/x-python",
   "name": "python",
   "nbconvert_exporter": "python",
   "pygments_lexer": "ipython3",
   "version": "3.7.6"
  }
 },
 "nbformat": 4,
 "nbformat_minor": 4
}
